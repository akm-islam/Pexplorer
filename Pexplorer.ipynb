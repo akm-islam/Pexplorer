{
 "cells": [
  {
   "cell_type": "code",
   "execution_count": 4,
   "metadata": {},
   "outputs": [],
   "source": [
    "from requests import get\n",
    "from bs4 import BeautifulSoup\n",
    "url = 'https://www.verywellmind.com/the-big-five-personality-dimensions-2795422'\n",
    "response = get(url)\n",
    "soup = BeautifulSoup(response.text)\n",
    "myul = soup.findAll(\"ul\", {\"class\": \"mntl-sc-block-comparisonlist__list\"})\n",
    "count=1\n",
    "dic={}\n",
    "dic2={}\n",
    "all_chars=[]\n",
    "for ul in myul:\n",
    "    myli=ul.find_all(\"p\")\n",
    "    ar=[]\n",
    "    for li in myli:\n",
    "        if str(li.string) !=\"None\":\n",
    "            ar.append(li.string)\n",
    "            all_chars.append(li.string)\n",
    "            #print(li.string)\n",
    "    if(count%2==0):\n",
    "        #print(\"low-------------\")\n",
    "        dic[\"Low\"]=ar\n",
    "    else:\n",
    "        #print(\"high-------------\")\n",
    "        dic[\"High\"]=ar\n",
    "    if(count%2==0):\n",
    "        dic2[count]=dic\n",
    "        dic={}\n",
    "    count=count+1\n",
    "dic2[\"all_chars\"]=all_chars"
   ]
  },
  {
   "cell_type": "code",
   "execution_count": 5,
   "metadata": {},
   "outputs": [
    {
     "name": "stdout",
     "output_type": "stream",
     "text": [
      "{'High': ['Very creative', 'Open to trying new things', 'Focused on tackling new challenges', 'Happy to think about abstract concepts'], 'Low': ['Dislikes change', 'Does not enjoy new things', 'Resists new ideas', 'Not very imaginative', 'Dislikes abstract or theoretical concepts']} \n",
      "\n",
      "{'High': ['Spends time preparing', 'Finishes important tasks right away', 'Pays attention to detail', 'Enjoys having a set schedule'], 'Low': ['Dislikes structure and schedules', \"Makes messes and doesn't take care of things\", 'Fails to return things or put them back where they belong', 'Fails to complete necessary or assigned tasks']} \n",
      "\n",
      "{'High': ['Enjoys being the center of attention', 'Likes to start conversations', 'Enjoys meeting new people', 'Has a wide social circle of friends and acquaintances', 'Finds it easy to make new friends', 'Feels energized when around other people', 'Say things before thinking about them'], 'Low': ['Prefers solitude', 'Feels exhausted when having to socialize a lot', 'Finds it difficult to start conversations', 'Dislikes making small talk', 'Carefully thinks things through before speaking', 'Dislikes being the center of attention']} \n",
      "\n",
      "{'High': ['Has a great deal of interest in other people', 'Cares about others', 'Enjoys helping and contributing to the happiness of other people', 'Assists others who are in need of help'], 'Low': ['Takes little interest in others', \"Doesn't care about how other people feel\", \"Has little interest in other people's problems\", 'Insults and belittles others', 'Manipulates others to get what they want']} \n",
      "\n",
      "{'High': ['Experiences a lot of stress', 'Worries about many different things', 'Gets upset easily', 'Experiences dramatic shifts in mood', 'Feels anxious', 'Struggles to bounce back after stressful events'], 'Low': ['Emotionally stable', 'Deals well with stress', 'Rarely feels sad or depressed', \"Doesn't worry much\", 'Is very relaxed']} \n",
      "\n",
      "['Very creative', 'Open to trying new things', 'Focused on tackling new challenges', 'Happy to think about abstract concepts', 'Dislikes change', 'Does not enjoy new things', 'Resists new ideas', 'Not very imaginative', 'Dislikes abstract or theoretical concepts', 'Spends time preparing', 'Finishes important tasks right away', 'Pays attention to detail', 'Enjoys having a set schedule', 'Dislikes structure and schedules', \"Makes messes and doesn't take care of things\", 'Fails to return things or put them back where they belong', 'Fails to complete necessary or assigned tasks', 'Enjoys being the center of attention', 'Likes to start conversations', 'Enjoys meeting new people', 'Has a wide social circle of friends and acquaintances', 'Finds it easy to make new friends', 'Feels energized when around other people', 'Say things before thinking about them', 'Prefers solitude', 'Feels exhausted when having to socialize a lot', 'Finds it difficult to start conversations', 'Dislikes making small talk', 'Carefully thinks things through before speaking', 'Dislikes being the center of attention', 'Has a great deal of interest in other people', 'Cares about others', 'Enjoys helping and contributing to the happiness of other people', 'Assists others who are in need of help', 'Takes little interest in others', \"Doesn't care about how other people feel\", \"Has little interest in other people's problems\", 'Insults and belittles others', 'Manipulates others to get what they want', 'Experiences a lot of stress', 'Worries about many different things', 'Gets upset easily', 'Experiences dramatic shifts in mood', 'Feels anxious', 'Struggles to bounce back after stressful events', 'Emotionally stable', 'Deals well with stress', 'Rarely feels sad or depressed', \"Doesn't worry much\", 'Is very relaxed'] \n",
      "\n"
     ]
    }
   ],
   "source": [
    "for key in dic2:\n",
    "    print(dic2[key],\"\\n\")"
   ]
  },
  {
   "cell_type": "code",
   "execution_count": 6,
   "metadata": {},
   "outputs": [],
   "source": [
    "import json\n",
    "with open(\"myfile.json\", \"w\") as fp:\n",
    "    json.dump(dic2 , fp) "
   ]
  },
  {
   "cell_type": "code",
   "execution_count": null,
   "metadata": {},
   "outputs": [],
   "source": []
  }
 ],
 "metadata": {
  "kernelspec": {
   "display_name": "Python 3",
   "language": "python",
   "name": "python3"
  },
  "language_info": {
   "codemirror_mode": {
    "name": "ipython",
    "version": 3
   },
   "file_extension": ".py",
   "mimetype": "text/x-python",
   "name": "python",
   "nbconvert_exporter": "python",
   "pygments_lexer": "ipython3",
   "version": "3.7.3"
  }
 },
 "nbformat": 4,
 "nbformat_minor": 2
}
