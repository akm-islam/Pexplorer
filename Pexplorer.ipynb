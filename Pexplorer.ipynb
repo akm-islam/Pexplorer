{
 "cells": [
  {
   "cell_type": "code",
   "execution_count": 1,
   "metadata": {},
   "outputs": [],
   "source": [
    "from requests import get\n",
    "from bs4 import BeautifulSoup\n",
    "url = 'https://www.verywellmind.com/the-big-five-personality-dimensions-2795422'\n",
    "response = get(url)"
   ]
  },
  {
   "cell_type": "code",
   "execution_count": 7,
   "metadata": {},
   "outputs": [],
   "source": [
    "soup = BeautifulSoup(response.text)\n",
    "myul = soup.findAll(\"ul\", {\"class\": \"mntl-sc-block-comparisonlist__list\"})"
   ]
  },
  {
   "cell_type": "code",
   "execution_count": 8,
   "metadata": {},
   "outputs": [],
   "source": [
    "count=1\n",
    "dic2={}\n",
    "dic={}\n",
    "for ul in myul:\n",
    "    myli=ul.find_all(\"p\")\n",
    "    ar=[]\n",
    "    for li in myli:\n",
    "        if str(li.string) !=\"None\":\n",
    "            ar.append(li.string)\n",
    "            #print(li.string)\n",
    "    if(count%2==0):\n",
    "        #print(\"low-------------\")\n",
    "        dic[\"Low\"]=ar\n",
    "    else:\n",
    "        #print(\"high-------------\")\n",
    "        dic[\"High\"]=ar\n",
    "    if(count%2==0):\n",
    "        dic2[count]=dic\n",
    "        dic={}\n",
    "    count=count+1"
   ]
  },
  {
   "cell_type": "code",
   "execution_count": null,
   "metadata": {},
   "outputs": [],
   "source": [
    "for key in dic2:\n",
    "    print(dic2[key],\"\\n\")"
   ]
  },
  {
   "cell_type": "code",
   "execution_count": 9,
   "metadata": {},
   "outputs": [],
   "source": [
    "import json\n",
    "with open(\"myfile.json\", \"w\") as fp:\n",
    "    json.dump(dic2 , fp) "
   ]
  },
  {
   "cell_type": "code",
   "execution_count": null,
   "metadata": {},
   "outputs": [],
   "source": []
  }
 ],
 "metadata": {
  "kernelspec": {
   "display_name": "Python 3",
   "language": "python",
   "name": "python3"
  },
  "language_info": {
   "codemirror_mode": {
    "name": "ipython",
    "version": 3
   },
   "file_extension": ".py",
   "mimetype": "text/x-python",
   "name": "python",
   "nbconvert_exporter": "python",
   "pygments_lexer": "ipython3",
   "version": "3.7.3"
  }
 },
 "nbformat": 4,
 "nbformat_minor": 2
}
